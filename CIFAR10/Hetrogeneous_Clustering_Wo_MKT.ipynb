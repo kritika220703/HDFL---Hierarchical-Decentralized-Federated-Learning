{
 "cells": [
  {
   "cell_type": "code",
   "execution_count": 23,
   "metadata": {},
   "outputs": [],
   "source": [
    "import torch\n",
    "from torchvision.datasets import CIFAR10\n",
    "from torch.utils.data import random_split, DataLoader\n",
    "import torchvision.transforms as transforms\n",
    "import matplotlib.pyplot as plt\n",
    "import random\n",
    "from sklearn.cluster import KMeans\n",
    "import numpy as np\n",
    "from sklearn.metrics import silhouette_score\n",
    "from sklearn.model_selection import train_test_split\n",
    "import numpy as np\n",
    "from typing import List, Tuple\n",
    "import pickle\n",
    "from torch.utils.data import ConcatDataset, Dataset, Subset\n",
    "%matplotlib inline\n",
    "plt.rcParams['figure.figsize'] = [5, 5]"
   ]
  },
  {
   "cell_type": "code",
   "execution_count": 24,
   "metadata": {},
   "outputs": [],
   "source": [
    "train_dataset = CIFAR10('/home/vishal1/Desktop/nitin/AAMAS_Exp/CIFAR10', train=True, download=False, transform=transforms.ToTensor())\n",
    "test_dataset = CIFAR10('/home/vishal1/Desktop/nitin/AAMAS_Exp/CIFAR10', train=False, download=False, transform=transforms.ToTensor())"
   ]
  },
  {
   "cell_type": "code",
   "execution_count": 25,
   "metadata": {},
   "outputs": [],
   "source": [
    "total_train_size = len(train_dataset)\n",
    "total_test_size = len(test_dataset)\n",
    "classes = 10\n",
    "input_dim = 784\n",
    "num_clients = 25\n",
    "rounds = 30\n",
    "batch_size = 32\n",
    "in_group_rounds=3\n",
    "epochs_per_client =2\n",
    "learning_rate = 2e-2\n",
    "num_malicious_clients=5"
   ]
  },
  {
   "cell_type": "code",
   "execution_count": 26,
   "metadata": {},
   "outputs": [
    {
     "data": {
      "text/plain": [
       "(50000, 10000)"
      ]
     },
     "execution_count": 26,
     "metadata": {},
     "output_type": "execute_result"
    }
   ],
   "source": [
    "total_train_size, total_test_size"
   ]
  },
  {
   "cell_type": "code",
   "execution_count": 27,
   "metadata": {},
   "outputs": [],
   "source": [
    "def get_device():\n",
    "    return torch.device('cuda') if torch.cuda.is_available() else torch.device('cpu')\n",
    "\n",
    "def to_device(data, device):\n",
    "    if isinstance(data, (list, tuple)):\n",
    "        return [to_device(x, device) for x in data]\n",
    "    return data.to(device, non_blocking=True)\n",
    "\n",
    "class DeviceDataLoader(DataLoader):\n",
    "        def __init__(self, dl, device):\n",
    "            self.dl = dl\n",
    "            self.device = device\n",
    "\n",
    "        def __iter__(self):\n",
    "            for batch in self.dl:\n",
    "                yield to_device(batch, self.device)\n",
    "\n",
    "        def __len__(self):\n",
    "            return len(self.dl)\n",
    "\n",
    "device = get_device()\n",
    "\n",
    "\n",
    "def average_models(new_model, next, scale):\n",
    "    if new_model == None:\n",
    "        new_model = next\n",
    "        for key in new_model:\n",
    "            new_model[key] = new_model[key] * scale\n",
    "    else:\n",
    "        for key in new_model:\n",
    "            new_model[key] = new_model[key] + (next[key] * scale)\n",
    "    return new_model\n"
   ]
  },
  {
   "cell_type": "code",
   "execution_count": 28,
   "metadata": {},
   "outputs": [],
   "source": [
    "class FederatedNet(torch.nn.Module):    \n",
    "    def __init__(self):\n",
    "        super().__init__()\n",
    "        # Update input channels to 3 for RGB images\n",
    "        self.layer1 = torch.nn.Sequential(\n",
    "            torch.nn.Conv2d(3, 16, kernel_size=5, padding=2),\n",
    "            torch.nn.BatchNorm2d(16),\n",
    "            torch.nn.ReLU(),\n",
    "            torch.nn.MaxPool2d(2))\n",
    "        \n",
    "        self.layer2 = torch.nn.Sequential(\n",
    "            torch.nn.Conv2d(16, 32, kernel_size=5, padding=2),\n",
    "            torch.nn.BatchNorm2d(32),\n",
    "            torch.nn.ReLU(),\n",
    "            torch.nn.MaxPool2d(2))\n",
    "        \n",
    "        self.fc = torch.nn.Linear(8 * 8 * 32, 10)\n",
    "        # self.conv1 = torch.nn.Conv2d(3, 6, 5)\n",
    "        # self.pool = torch.nn.MaxPool2d(2, 2)\n",
    "        # self.conv2 = torch.nn.Conv2d(6, 16, 5)\n",
    "        # self.fc1 = torch.nn.Linear(400, 120)\n",
    "        # self.fc2 = torch.nn.Linear(120, 84)\n",
    "        # self.fc3 = torch.nn.Linear(84, 10)\n",
    "    \n",
    "    def forward(self, x):\n",
    "        \n",
    "        # x = self.pool(torch.nn.functional.relu(self.conv1(x)))\n",
    "        # x = self.pool(torch.nn.functional.relu(self.conv2(x)))\n",
    "        # x = x.view(-1, 16 * 5 * 5)\n",
    "        # x = torch.nn.functional.relu(self.fc1(x))\n",
    "        # x = torch.nn.functional.relu(self.fc2(x))\n",
    "        # x = self.fc3(x)\n",
    "        # return x\n",
    "        out = self.layer1(x)\n",
    "        out = self.layer2(out)\n",
    "        out = out.view(out.size(0), -1)\n",
    "        out = self.fc(out)\n",
    "        return out\n",
    "    \n",
    "    def batch_accuracy(self, outputs, labels):\n",
    "        with torch.no_grad():\n",
    "            _, predictions = torch.max(outputs, dim=1)\n",
    "            return torch.tensor(torch.sum(predictions == labels).item() / len(predictions))\n",
    "    \n",
    "    def _process_batch(self, batch):\n",
    "        images, labels = batch\n",
    "        outputs = self(images)\n",
    "        loss = torch.nn.functional.cross_entropy(outputs, labels)\n",
    "        accuracy = self.batch_accuracy(outputs, labels)\n",
    "        return (loss, accuracy)\n",
    "    \n",
    "    def fit(self, dataset, epochs, lr, batch_size=128, opt=torch.optim.SGD):\n",
    "        dataloader = DeviceDataLoader(DataLoader(dataset, batch_size, shuffle=True), device)\n",
    "        optimizer = opt(self.parameters(), lr)\n",
    "        history = []\n",
    "        for epoch in range(epochs):\n",
    "            losses = []\n",
    "            accs = []\n",
    "            for batch in dataloader:\n",
    "                loss, acc = self._process_batch(batch)\n",
    "                loss.backward()\n",
    "                optimizer.step()\n",
    "                optimizer.zero_grad()\n",
    "                loss.detach()\n",
    "                losses.append(loss)\n",
    "                accs.append(acc)\n",
    "            avg_loss = torch.stack(losses).mean().item()\n",
    "            avg_acc = torch.stack(accs).mean().item()\n",
    "            history.append((avg_loss, avg_acc))\n",
    "        return history\n",
    "    \n",
    "    def evaluate(self, dataset, batch_size=128):\n",
    "        dataloader = DeviceDataLoader(DataLoader(dataset, batch_size), device)\n",
    "        losses = []\n",
    "        accs = []\n",
    "        with torch.no_grad():\n",
    "            for batch in dataloader:\n",
    "                loss, acc = self._process_batch(batch)\n",
    "                losses.append(loss)\n",
    "                accs.append(acc)\n",
    "        avg_loss = torch.stack(losses).mean().item()\n",
    "        avg_acc = torch.stack(accs).mean().item()\n",
    "        return (avg_loss, avg_acc)"
   ]
  },
  {
   "cell_type": "code",
   "execution_count": 29,
   "metadata": {},
   "outputs": [],
   "source": [
    "def partition_data_label_quantity(\n",
    "    num_clients, labels_per_client, train_dataset, total_train_size, seed=42\n",
    "):\n",
    "    trainset = train_dataset\n",
    "    prng = np.random.default_rng(seed)\n",
    "\n",
    "    targets = trainset.targets\n",
    "    if isinstance(targets, list):\n",
    "        targets = np.array(targets)\n",
    "    if isinstance(targets, torch.Tensor):\n",
    "        targets = targets.numpy()\n",
    "    num_classes = len(set(targets))\n",
    "\n",
    "    if labels_per_client != 2:\n",
    "        raise ValueError(\"This function is designed to assign exactly 2 labels per client.\")\n",
    "\n",
    "    # Create specific class pairs and assign to clients\n",
    "    class_pairs = [(i, i + 1) for i in range(0, num_classes, 2)]\n",
    "    contains = [class_pairs[i % len(class_pairs)] for i in range(num_clients)]\n",
    "\n",
    "    # Prepare indices for clients\n",
    "    idx_clients = [[] for _ in range(num_clients)]\n",
    "    for i, (class1, class2) in enumerate(contains):\n",
    "        idx_class1 = np.where(targets == class1)[0]\n",
    "        idx_class2 = np.where(targets == class2)[0]\n",
    "        \n",
    "        # Shuffle the indices\n",
    "        prng.shuffle(idx_class1)\n",
    "        prng.shuffle(idx_class2)\n",
    "        \n",
    "        # Combine indices and assign to the client\n",
    "        combined_indices = np.concatenate([idx_class1, idx_class2])\n",
    "        prng.shuffle(combined_indices)\n",
    "\n",
    "        # Assign a proportional subset of combined indices to the client\n",
    "        idx_clients[i] = combined_indices[: total_train_size // num_clients].tolist()\n",
    "\n",
    "    # Create subsets for each client\n",
    "    trainsets_per_client = [Subset(trainset, idxs) for idxs in idx_clients]\n",
    "    return trainsets_per_client\n"
   ]
  },
  {
   "cell_type": "code",
   "execution_count": 30,
   "metadata": {},
   "outputs": [],
   "source": [
    "client_datasets = partition_data_label_quantity(num_clients,2,train_dataset,len(train_dataset))"
   ]
  },
  {
   "cell_type": "markdown",
   "metadata": {},
   "source": [
    "FL"
   ]
  },
  {
   "cell_type": "code",
   "execution_count": 31,
   "metadata": {},
   "outputs": [],
   "source": [
    "class Client:\n",
    "    def __init__(self, client_id, dataset):\n",
    "        self.client_id = client_id\n",
    "        self.dataset = dataset\n",
    "    \n",
    "    def get_dataset_size(self):\n",
    "        return len(self.dataset)\n",
    "    \n",
    "    def get_client_id(self):\n",
    "        return self.client_id\n",
    "    \n",
    "    def train(self, parameters_dict):\n",
    "        net = to_device(FederatedNet(), device)\n",
    "        net.load_state_dict(parameters_dict)\n",
    "        train_history = net.fit(self.dataset, epochs_per_client, learning_rate, batch_size)\n",
    "        return net.state_dict()"
   ]
  },
  {
   "cell_type": "code",
   "execution_count": 32,
   "metadata": {},
   "outputs": [],
   "source": [
    "clients = [Client('client_' + str(i), client_datasets[i]) for i in range(num_clients)]"
   ]
  },
  {
   "cell_type": "code",
   "execution_count": 33,
   "metadata": {},
   "outputs": [
    {
     "name": "stdout",
     "output_type": "stream",
     "text": [
      "After round 1, train_loss = 2.2328, dev_loss = 2.2268, dev_acc = 0.1824\n",
      "\n",
      "After round 2, train_loss = 2.0607, dev_loss = 2.0583, dev_acc = 0.2797\n",
      "\n",
      "After round 3, train_loss = 1.9731, dev_loss = 1.9731, dev_acc = 0.3242\n",
      "\n",
      "After round 4, train_loss = 1.9156, dev_loss = 1.9165, dev_acc = 0.3482\n",
      "\n",
      "After round 5, train_loss = 1.8607, dev_loss = 1.8636, dev_acc = 0.3625\n",
      "\n",
      "After round 6, train_loss = 1.8146, dev_loss = 1.8185, dev_acc = 0.3793\n",
      "\n",
      "After round 7, train_loss = 1.7789, dev_loss = 1.785, dev_acc = 0.389\n",
      "\n",
      "After round 8, train_loss = 1.7458, dev_loss = 1.7527, dev_acc = 0.3992\n",
      "\n",
      "After round 9, train_loss = 1.7176, dev_loss = 1.7256, dev_acc = 0.4079\n",
      "\n",
      "After round 10, train_loss = 1.695, dev_loss = 1.7055, dev_acc = 0.4163\n",
      "\n",
      "After round 11, train_loss = 1.6729, dev_loss = 1.6845, dev_acc = 0.4156\n",
      "\n",
      "After round 12, train_loss = 1.6501, dev_loss = 1.6628, dev_acc = 0.4311\n",
      "\n",
      "After round 13, train_loss = 1.6282, dev_loss = 1.6425, dev_acc = 0.4386\n",
      "\n",
      "After round 14, train_loss = 1.6153, dev_loss = 1.6318, dev_acc = 0.4386\n",
      "\n",
      "After round 15, train_loss = 1.598, dev_loss = 1.616, dev_acc = 0.4455\n",
      "\n",
      "After round 16, train_loss = 1.5821, dev_loss = 1.6015, dev_acc = 0.4491\n",
      "\n",
      "After round 17, train_loss = 1.5669, dev_loss = 1.5881, dev_acc = 0.4562\n",
      "\n",
      "After round 18, train_loss = 1.5544, dev_loss = 1.5752, dev_acc = 0.4574\n",
      "\n",
      "After round 19, train_loss = 1.543, dev_loss = 1.5658, dev_acc = 0.4594\n",
      "\n",
      "After round 20, train_loss = 1.5314, dev_loss = 1.5573, dev_acc = 0.4639\n",
      "\n",
      "After round 21, train_loss = 1.5217, dev_loss = 1.548, dev_acc = 0.4664\n",
      "\n",
      "After round 22, train_loss = 1.5079, dev_loss = 1.5367, dev_acc = 0.4717\n",
      "\n",
      "After round 23, train_loss = 1.5036, dev_loss = 1.5328, dev_acc = 0.4722\n",
      "\n",
      "After round 24, train_loss = 1.4966, dev_loss = 1.5287, dev_acc = 0.4723\n",
      "\n",
      "After round 25, train_loss = 1.4871, dev_loss = 1.5205, dev_acc = 0.4739\n",
      "\n",
      "After round 26, train_loss = 1.4728, dev_loss = 1.5062, dev_acc = 0.4812\n",
      "\n",
      "After round 27, train_loss = 1.4677, dev_loss = 1.5034, dev_acc = 0.4827\n",
      "\n",
      "After round 28, train_loss = 1.4602, dev_loss = 1.4972, dev_acc = 0.486\n",
      "\n",
      "After round 29, train_loss = 1.4491, dev_loss = 1.4869, dev_acc = 0.4889\n",
      "\n",
      "After round 30, train_loss = 1.4507, dev_loss = 1.4906, dev_acc = 0.4875\n",
      "\n"
     ]
    }
   ],
   "source": [
    "global_net = to_device(FederatedNet(), device)\n",
    "history_FL = []\n",
    "traffic=[]\n",
    "weights=[]\n",
    "load_model=None\n",
    "total_length_dataset=len(train_dataset)\n",
    "for i in range(rounds):\n",
    "    curr_parameters = global_net.state_dict()\n",
    "    new_model=None\n",
    "    for client in clients:\n",
    "        client_parameters = client.train(curr_parameters)\n",
    "        fraction = client.get_dataset_size()/total_length_dataset\n",
    "        new_model=average_models(new_model,client_parameters,fraction)\n",
    "    load_model=new_model.copy()\n",
    "    params = list(load_model)\n",
    "    total_norm = 0.0\n",
    "    for key, value in load_model.items():\n",
    "        total_norm += torch.norm(value.view(-1)).item()\n",
    "    weights.append(total_norm)\n",
    "    global_net.load_state_dict(new_model)\n",
    "    train_loss, train_acc = global_net.evaluate(train_dataset)\n",
    "    dev_loss, dev_acc = global_net.evaluate(test_dataset)\n",
    "    print('After round {}, train_loss = {}, dev_loss = {}, dev_acc = {}\\n'.format(i + 1, round(train_loss, 4), \n",
    "            round(dev_loss, 4), round(dev_acc, 4)))\n",
    "    traffic.append(2*num_clients)\n",
    "    history_FL.append((train_acc, dev_acc,i))"
   ]
  },
  {
   "cell_type": "code",
   "execution_count": 34,
   "metadata": {},
   "outputs": [
    {
     "data": {
      "image/png": "[encoded data removed]",
      "text/plain": [
       "<Figure size 500x500 with 1 Axes>"
      ]
     },
     "metadata": {},
     "output_type": "display_data"
    }
   ],
   "source": [
    "plt.plot([i + 1 for i in range(len(history_FL))], [history_FL[i][0] for i in range(len(history_FL))], color='r', label='train loss')\n",
    "plt.plot([i + 1 for i in range(len(history_FL))], [history_FL[i][1] for i in range(len(history_FL))], color='b', label='dev loss')\n",
    "plt.legend()\n",
    "plt.title(\"Rounds vs Accuracy\")\n",
    "plt.xlabel(\"Number of rounds\")\n",
    "plt.ylabel(\"Accuracy\")\n",
    "plt.show()"
   ]
  },
  {
   "cell_type": "code",
   "execution_count": 35,
   "metadata": {},
   "outputs": [
    {
     "ename": "NameError",
     "evalue": "name 'history' is not defined",
     "output_type": "error",
     "traceback": [
      "\u001b[0;31m---------------------------------------------------------------------------\u001b[0m",
      "\u001b[0;31mNameError\u001b[0m                                 Traceback (most recent call last)",
      "Cell \u001b[0;32mIn[35], line 1\u001b[0m\n\u001b[0;32m----> 1\u001b[0m \u001b[38;5;28mprint\u001b[39m(\u001b[38;5;28mmax\u001b[39m(\u001b[43mhistory\u001b[49m))\n\u001b[1;32m      2\u001b[0m \u001b[38;5;28mprint\u001b[39m(traffic[\u001b[38;5;241m0\u001b[39m])\n",
      "\u001b[0;31mNameError\u001b[0m: name 'history' is not defined"
     ]
    }
   ],
   "source": [
    "print(max(history))\n",
    "print(traffic[0])"
   ]
  },
  {
   "cell_type": "code",
   "execution_count": null,
   "metadata": {},
   "outputs": [],
   "source": [
    "history_file_name=\"./fedavg_2class_fl_history\"\n",
    "weights_file_name=\"./fedavg_2class_fl_weights\"\n",
    "traffic_file_name=\"./fedavg_2class_fl_traffic\""
   ]
  },
  {
   "cell_type": "code",
   "execution_count": null,
   "metadata": {},
   "outputs": [],
   "source": [
    "with open(history_file_name, \"wb\") as fp:\n",
    "        pickle.dump(history, fp)\n",
    "with open(weights_file_name, \"wb\") as fp:\n",
    "        pickle.dump(weights, fp)\n",
    "with open(traffic_file_name, \"wb\") as fp:\n",
    "        pickle.dump(traffic, fp)"
   ]
  },
  {
   "cell_type": "markdown",
   "metadata": {},
   "source": [
    "DFL"
   ]
  },
  {
   "cell_type": "code",
   "execution_count": 36,
   "metadata": {},
   "outputs": [],
   "source": [
    "class Client:\n",
    "    def __init__(self, client_id, dataset):\n",
    "        self.client_id = client_id\n",
    "        self.dataset = dataset\n",
    "        self.client_data=[]\n",
    "    \n",
    "    def get_dataset_size(self):\n",
    "        return len(self.dataset)\n",
    "    \n",
    "    def get_client_id(self):\n",
    "        return self.client_id\n",
    "    \n",
    "    def train(self, parameters_dict):\n",
    "        net = to_device(FederatedNet(), device)\n",
    "        net.load_state_dict(parameters_dict)\n",
    "        train_history = net.fit(self.dataset, epochs_per_client, learning_rate, batch_size)\n",
    "        return net.state_dict()\n",
    "    \n",
    "    def recieve_parameters(self,client_id,client_parameter,fraction):\n",
    "        client_object={\"client_id\":client_id,\"client_parameter\":client_parameter,\"fraction\":fraction}\n",
    "        self.client_data.append(client_object)\n",
    "\n",
    "    def aggregated_parameters(self):\n",
    "            local_aggregated_model=None\n",
    "            for i in range(0,len(self.client_data)):\n",
    "                 local_aggregated_model=average_models(local_aggregated_model,self.client_data[i][\"client_parameter\"],self.client_data[i][\"fraction\"])\n",
    "            self.client_data.clear()\n",
    "            return local_aggregated_model"
   ]
  },
  {
   "cell_type": "code",
   "execution_count": 37,
   "metadata": {},
   "outputs": [],
   "source": [
    "clients = [Client(i, client_datasets[i]) for i in range(num_clients)]"
   ]
  },
  {
   "cell_type": "code",
   "execution_count": 38,
   "metadata": {},
   "outputs": [
    {
     "name": "stdout",
     "output_type": "stream",
     "text": [
      "After round 1, train_loss = 2.2226, dev_loss = 2.2215, dev_acc = 0.1787\n",
      "\n",
      "After round 2, train_loss = 2.0231, dev_loss = 2.0233, dev_acc = 0.2822\n",
      "\n",
      "After round 3, train_loss = 1.9476, dev_loss = 1.9536, dev_acc = 0.3101\n",
      "\n",
      "After round 4, train_loss = 1.8689, dev_loss = 1.8794, dev_acc = 0.3328\n",
      "\n",
      "After round 5, train_loss = 1.8161, dev_loss = 1.8277, dev_acc = 0.3489\n",
      "\n",
      "After round 6, train_loss = 1.7831, dev_loss = 1.7974, dev_acc = 0.3618\n",
      "\n",
      "After round 7, train_loss = 1.7498, dev_loss = 1.7643, dev_acc = 0.3792\n",
      "\n",
      "After round 8, train_loss = 1.7227, dev_loss = 1.7383, dev_acc = 0.3904\n",
      "\n",
      "After round 9, train_loss = 1.6888, dev_loss = 1.7057, dev_acc = 0.4067\n",
      "\n",
      "After round 10, train_loss = 1.6639, dev_loss = 1.6822, dev_acc = 0.4212\n",
      "\n",
      "After round 11, train_loss = 1.6363, dev_loss = 1.6567, dev_acc = 0.4306\n",
      "\n",
      "After round 12, train_loss = 1.6134, dev_loss = 1.6339, dev_acc = 0.4393\n",
      "\n",
      "After round 13, train_loss = 1.5815, dev_loss = 1.6031, dev_acc = 0.4541\n",
      "\n",
      "After round 14, train_loss = 1.5599, dev_loss = 1.5826, dev_acc = 0.4652\n",
      "\n",
      "After round 15, train_loss = 1.5391, dev_loss = 1.5647, dev_acc = 0.4711\n",
      "\n",
      "After round 16, train_loss = 1.5155, dev_loss = 1.5412, dev_acc = 0.4835\n",
      "\n",
      "After round 17, train_loss = 1.5077, dev_loss = 1.5365, dev_acc = 0.4792\n",
      "\n",
      "After round 18, train_loss = 1.4795, dev_loss = 1.5101, dev_acc = 0.4967\n",
      "\n",
      "After round 19, train_loss = 1.4721, dev_loss = 1.5047, dev_acc = 0.4945\n",
      "\n",
      "After round 20, train_loss = 1.4583, dev_loss = 1.4917, dev_acc = 0.4991\n",
      "\n",
      "After round 21, train_loss = 1.4499, dev_loss = 1.486, dev_acc = 0.5027\n",
      "\n",
      "After round 22, train_loss = 1.4323, dev_loss = 1.468, dev_acc = 0.5111\n",
      "\n",
      "After round 23, train_loss = 1.4306, dev_loss = 1.4684, dev_acc = 0.511\n",
      "\n",
      "After round 24, train_loss = 1.4164, dev_loss = 1.4551, dev_acc = 0.5166\n",
      "\n",
      "After round 25, train_loss = 1.4133, dev_loss = 1.4539, dev_acc = 0.5175\n",
      "\n",
      "After round 26, train_loss = 1.3991, dev_loss = 1.4397, dev_acc = 0.5257\n",
      "\n",
      "After round 27, train_loss = 1.3937, dev_loss = 1.4344, dev_acc = 0.527\n",
      "\n",
      "After round 28, train_loss = 1.3984, dev_loss = 1.442, dev_acc = 0.5197\n",
      "\n",
      "After round 29, train_loss = 1.3832, dev_loss = 1.4258, dev_acc = 0.5325\n",
      "\n",
      "After round 30, train_loss = 1.3783, dev_loss = 1.4222, dev_acc = 0.5289\n",
      "\n"
     ]
    }
   ],
   "source": [
    "global_net = to_device(FederatedNet(), device)\n",
    "curr_parameters = global_net.state_dict()\n",
    "history_DFL = []\n",
    "weights=[]\n",
    "traffic=[]\n",
    "load_model=None\n",
    "total_data_size=len(train_dataset)\n",
    "for i in range(rounds):\n",
    "    new_model=None\n",
    "    for client in clients:\n",
    "        fraction = client.get_dataset_size()/total_data_size\n",
    "        if i == 0:\n",
    "            client_parameters=client.train(curr_parameters)\n",
    "        else:\n",
    "            client_parameters = client.train(client.aggregated_parameters())\n",
    "        for clt in clients:\n",
    "                clt.recieve_parameters(client.get_client_id(),client_parameters,fraction)\n",
    "        new_model=average_models(new_model,client_parameters,fraction)\n",
    "    \n",
    "\n",
    "\n",
    "    load_model=new_model.copy()\n",
    "    params = list(load_model)\n",
    "    total_norm = 0.0\n",
    "    for key, value in load_model.items():\n",
    "            total_norm += torch.norm(value.view(-1)).item()\n",
    "    weights.append(total_norm)\n",
    "    global_net.load_state_dict(new_model)\n",
    "    train_loss, train_acc = global_net.evaluate(train_dataset)\n",
    "    dev_loss, dev_acc = global_net.evaluate(test_dataset)\n",
    "    print('After round {}, train_loss = {}, dev_loss = {}, dev_acc = {}\\n'.format(i + 1, round(train_loss, 4), \n",
    "            round(dev_loss, 4), round(dev_acc, 4)))\n",
    "    traffic.append((num_clients)*(num_clients-1))\n",
    "    history_DFL.append((train_acc, dev_acc,i))"
   ]
  },
  {
   "cell_type": "code",
   "execution_count": 39,
   "metadata": {},
   "outputs": [
    {
     "data": {
      "image/png": "[encoded data removed]",
      "text/plain": [
       "<Figure size 500x500 with 1 Axes>"
      ]
     },
     "metadata": {},
     "output_type": "display_data"
    }
   ],
   "source": [
    "plt.plot([i + 1 for i in range(len(history_DFL))], [history_DFL[i][0] for i in range(len(history_DFL))], color='r', label='train loss')\n",
    "plt.plot([i + 1 for i in range(len(history_DFL))], [history_DFL[i][1] for i in range(len(history_DFL))], color='b', label='dev loss')\n",
    "plt.legend()\n",
    "plt.title(\"Rounds vs Accuracy\")\n",
    "plt.xlabel(\"Number of rounds\")\n",
    "plt.ylabel(\"Accuracy\")\n",
    "plt.show()"
   ]
  },
  {
   "cell_type": "code",
   "execution_count": 40,
   "metadata": {},
   "outputs": [
    {
     "ename": "NameError",
     "evalue": "name 'history' is not defined",
     "output_type": "error",
     "traceback": [
      "\u001b[0;31m---------------------------------------------------------------------------\u001b[0m",
      "\u001b[0;31mNameError\u001b[0m                                 Traceback (most recent call last)",
      "Cell \u001b[0;32mIn[40], line 1\u001b[0m\n\u001b[0;32m----> 1\u001b[0m \u001b[38;5;28mprint\u001b[39m(\u001b[38;5;28mmax\u001b[39m(\u001b[43mhistory\u001b[49m))\n\u001b[1;32m      2\u001b[0m \u001b[38;5;28mprint\u001b[39m(traffic[\u001b[38;5;241m0\u001b[39m])\n",
      "\u001b[0;31mNameError\u001b[0m: name 'history' is not defined"
     ]
    }
   ],
   "source": [
    "print(max(history))\n",
    "print(traffic[0])"
   ]
  },
  {
   "cell_type": "code",
   "execution_count": null,
   "metadata": {},
   "outputs": [],
   "source": [
    "history_file_name=\"./fedavg_2class_dfl_history\"\n",
    "weights_file_name=\"./fedavg_2class_dfl_weights\"\n",
    "traffic_file_name=\"./fedavg_2class_dfl_traffic\""
   ]
  },
  {
   "cell_type": "code",
   "execution_count": null,
   "metadata": {},
   "outputs": [],
   "source": [
    "with open(history_file_name, \"wb\") as fp:\n",
    "        pickle.dump(history, fp)\n",
    "with open(weights_file_name, \"wb\") as fp:\n",
    "        pickle.dump(weights, fp)\n",
    "with open(traffic_file_name, \"wb\") as fp:\n",
    "        pickle.dump(traffic, fp)"
   ]
  },
  {
   "cell_type": "markdown",
   "metadata": {},
   "source": [
    "HDFL"
   ]
  },
  {
   "cell_type": "code",
   "execution_count": 52,
   "metadata": {},
   "outputs": [],
   "source": [
    "class Client:\n",
    "    def __init__(self, client_id, dataset):\n",
    "        self.client_id = client_id\n",
    "        self.dataset = dataset\n",
    "        self.client_data=[]\n",
    "        self.server_id=-1\n",
    "        self.distance=random.randint(1,100)\n",
    "        self.client_data_server=[]\n",
    "    \n",
    "    def set_server_id(self,client_id):\n",
    "        self.client_data_server=[]\n",
    "        self.server_id=client_id\n",
    "    \n",
    "    def get_server_id(self):\n",
    "        return self.server_id\n",
    "    \n",
    "    def get_dataset_size(self):\n",
    "        return len(self.dataset)\n",
    "    \n",
    "    def get_client_id(self):\n",
    "        return self.client_id\n",
    "    \n",
    "    def train(self, parameters_dict):\n",
    "        net = to_device(FederatedNet(), device)\n",
    "        net.load_state_dict(parameters_dict)\n",
    "        train_history = net.fit(self.dataset, epochs_per_client, learning_rate, batch_size)\n",
    "        # print('{}: Loss = {}, Accuracy = {}'.format(self.client_id, round(train_history[-1][0], 4), round(train_history[-1][1], 4)))\n",
    "        return net.state_dict()\n",
    "    \n",
    "    def recieve_parameters(self,client_id,client_parameter,fraction):\n",
    "        client_object={\"client_id\":client_id,\"client_parameter\":client_parameter,\"fraction\":fraction}\n",
    "        self.client_data.append(client_object)\n",
    "\n",
    "    def aggregated_parameters(self):\n",
    "            local_aggregated_model=None\n",
    "            for i in range(0,len(self.client_data)):\n",
    "                 local_aggregated_model=average_models(local_aggregated_model,self.client_data[i][\"client_parameter\"],self.client_data[i][\"fraction\"])\n",
    "            self.client_data.clear()\n",
    "            return local_aggregated_model\n",
    "    \n",
    "    def recieve_data_as_server(self,client_parameter,fraction):\n",
    "        client_object={\"client_parameter\":client_parameter,\"fraction\":fraction}\n",
    "        self.client_data_server.append(client_object)\n",
    "    \n",
    "\n",
    "    def aggregate_parameter_as_server(self):\n",
    "         local_aggregated_model_as_server=None\n",
    "         for data in self.client_data_server:\n",
    "              local_aggregated_model_as_server=average_models(local_aggregated_model_as_server,data[\"client_parameter\"],data[\"fraction\"])\n",
    "         self.client_data_server.clear()\n",
    "         return local_aggregated_model_as_server   "
   ]
  },
  {
   "cell_type": "code",
   "execution_count": 53,
   "metadata": {},
   "outputs": [],
   "source": [
    "def utility_function(client_set_1,client_set_2,data):\n",
    "  client_set_1_average=None\n",
    "  client_set_2_average=None\n",
    "  for i in client_set_1:\n",
    "    client_set_1_average=average_models(client_set_1_average,data[i],1)\n",
    "  for i in client_set_2:\n",
    "    client_set_2_average=average_models(client_set_2_average,data[i],1)\n",
    "  model1_weights = []\n",
    "  model2_weights = []\n",
    "  for key, value in client_set_1_average.items():\n",
    "      model1_weights.append(value.detach().cpu())\n",
    "\n",
    "  for key, value in client_set_2_average.items():\n",
    "      model2_weights.append(value.detach().cpu())\n",
    "  weight1_flat = torch.cat([param.view(-1) for param in model1_weights])\n",
    "  weight2_flat = torch.cat([param.view(-1) for param in model2_weights])\n",
    "  cosine_sim = torch.nn.functional.cosine_similarity(weight1_flat, weight2_flat, dim=0)\n",
    "  return cosine_sim.item()"
   ]
  },
  {
   "cell_type": "code",
   "execution_count": 54,
   "metadata": {},
   "outputs": [],
   "source": [
    "def generateGroupsGame(data,num_clients):\n",
    "    groups=[]\n",
    "    for i in range(0,num_clients):\n",
    "        groups.append([i])\n",
    "    while True:\n",
    "        for group in groups:\n",
    "            for x in group:\n",
    "                no_change_flag=0\n",
    "                m_i_n_group=None\n",
    "                m_i_n_utility=100\n",
    "                for g in groups:\n",
    "                    if g!=group:\n",
    "                        if len(g) >= 1 and len(group) > 1:\n",
    "                            tempset_1=g.copy()\n",
    "                            tempset_1.append(x)\n",
    "                            tempset_2=group.copy()\n",
    "                            tempset_2.remove(x)\n",
    "                            if utility_function(tempset_1,tempset_2,data) > utility_function(g,group,data): \n",
    "                                if m_i_n_utility > utility_function(tempset_1,tempset_2,data):\n",
    "                                    m_i_n_group=g\n",
    "                                    m_i_n_utility=utility_function(tempset_1,tempset_2,data)        \n",
    "                        elif len(group)<=1:\n",
    "                            if utility_function(g,group,data) < m_i_n_utility:\n",
    "                                m_i_n_group=g\n",
    "                                m_i_n_utility=utility_function(g,group,data)\n",
    "                if m_i_n_group is not None:  \n",
    "                    group.remove(x)\n",
    "                    m_i_n_group.append(x)\n",
    "                    no_change_flag=1\n",
    "                    if len(group) <=0 :\n",
    "                        groups.remove(group)\n",
    "        if no_change_flag == 0:\n",
    "            break\n",
    "    print(\"end\")\n",
    "    return groups"
   ]
  },
  {
   "cell_type": "code",
   "execution_count": 55,
   "metadata": {},
   "outputs": [],
   "source": [
    "def groupDataLength(groups,clients):\n",
    "    group_dataset_length=[]\n",
    "    for grp in groups:\n",
    "        totalcount=0\n",
    "        for clt in grp:\n",
    "            totalcount+=clients[clt].get_dataset_size()\n",
    "        group_dataset_length.append(totalcount)\n",
    "    return group_dataset_length"
   ]
  },
  {
   "cell_type": "code",
   "execution_count": 56,
   "metadata": {},
   "outputs": [],
   "source": [
    "clients = [Client(i, client_datasets[i]) for i in range(num_clients)]"
   ]
  },
  {
   "cell_type": "code",
   "execution_count": 57,
   "metadata": {},
   "outputs": [],
   "source": [
    "global_net = to_device(FederatedNet(), device)\n",
    "curr_parameters = global_net.state_dict()\n",
    "data = []\n",
    "for client in clients:\n",
    "    paramerter=client.train(curr_parameters)\n",
    "    data.append(paramerter)"
   ]
  },
  {
   "cell_type": "code",
   "execution_count": 58,
   "metadata": {},
   "outputs": [
    {
     "name": "stdout",
     "output_type": "stream",
     "text": [
      "[[0, 1, 2, 3, 4], [5, 6, 7, 8, 9], [10, 11, 12, 13, 14], [15, 16, 17, 18, 19], [20, 21, 22, 23, 24]]\n"
     ]
    }
   ],
   "source": [
    "# groups=generateGroupsGame(data,num_clients)\n",
    "groups = [\n",
    "    [0, 1, 2, 3, 4],\n",
    "    [5, 6, 7, 8, 9],\n",
    "    [10, 11, 12, 13, 14],\n",
    "    [15, 16, 17, 18, 19],\n",
    "    [20, 21, 22, 23, 24]\n",
    "]\n",
    "print(groups)\n",
    "group_dataset_length=groupDataLength(groups,clients)"
   ]
  },
  {
   "cell_type": "code",
   "execution_count": 59,
   "metadata": {},
   "outputs": [
    {
     "name": "stdout",
     "output_type": "stream",
     "text": [
      "After round 1, train_loss = 2.0678, dev_loss = 2.0648, dev_acc = 0.2823\n",
      "\n",
      "After round 2, train_loss = 1.9685, dev_loss = 1.9677, dev_acc = 0.3142\n",
      "\n",
      "After round 3, train_loss = 1.8957, dev_loss = 1.8977, dev_acc = 0.3441\n",
      "\n",
      "After round 4, train_loss = 1.8299, dev_loss = 1.8355, dev_acc = 0.3623\n",
      "\n",
      "After round 5, train_loss = 1.7737, dev_loss = 1.784, dev_acc = 0.3732\n",
      "\n",
      "After round 6, train_loss = 1.7195, dev_loss = 1.7361, dev_acc = 0.3939\n",
      "\n",
      "After round 7, train_loss = 1.6705, dev_loss = 1.6929, dev_acc = 0.4121\n",
      "\n",
      "After round 8, train_loss = 1.6337, dev_loss = 1.663, dev_acc = 0.4177\n",
      "\n",
      "After round 9, train_loss = 1.5975, dev_loss = 1.6329, dev_acc = 0.428\n",
      "\n",
      "After round 10, train_loss = 1.571, dev_loss = 1.6152, dev_acc = 0.4306\n",
      "\n",
      "After round 11, train_loss = 1.5592, dev_loss = 1.613, dev_acc = 0.4319\n",
      "\n",
      "After round 12, train_loss = 1.5494, dev_loss = 1.6116, dev_acc = 0.4349\n",
      "\n",
      "After round 13, train_loss = 1.539, dev_loss = 1.6111, dev_acc = 0.4402\n",
      "\n",
      "After round 14, train_loss = 1.5532, dev_loss = 1.6374, dev_acc = 0.4343\n",
      "\n",
      "After round 15, train_loss = 1.5694, dev_loss = 1.6658, dev_acc = 0.4347\n",
      "\n",
      "After round 16, train_loss = 1.5712, dev_loss = 1.6802, dev_acc = 0.44\n",
      "\n",
      "After round 17, train_loss = 1.6093, dev_loss = 1.7353, dev_acc = 0.4399\n",
      "\n",
      "After round 18, train_loss = 1.6588, dev_loss = 1.7996, dev_acc = 0.4346\n",
      "\n",
      "After round 19, train_loss = 1.725, dev_loss = 1.8872, dev_acc = 0.4333\n",
      "\n",
      "After round 20, train_loss = 1.796, dev_loss = 1.9765, dev_acc = 0.4378\n",
      "\n",
      "After round 21, train_loss = 1.8564, dev_loss = 2.0609, dev_acc = 0.4363\n",
      "\n",
      "After round 22, train_loss = 1.9713, dev_loss = 2.2016, dev_acc = 0.4299\n",
      "\n",
      "After round 23, train_loss = 2.0612, dev_loss = 2.3109, dev_acc = 0.4361\n",
      "\n",
      "After round 24, train_loss = 2.1702, dev_loss = 2.4511, dev_acc = 0.4383\n",
      "\n",
      "After round 25, train_loss = 2.3584, dev_loss = 2.6744, dev_acc = 0.4358\n",
      "\n",
      "After round 26, train_loss = 2.5377, dev_loss = 2.8929, dev_acc = 0.4292\n",
      "\n",
      "After round 27, train_loss = 2.7252, dev_loss = 3.1206, dev_acc = 0.4338\n",
      "\n",
      "After round 28, train_loss = 2.9538, dev_loss = 3.4037, dev_acc = 0.4333\n",
      "\n",
      "After round 29, train_loss = 3.2023, dev_loss = 3.7043, dev_acc = 0.4305\n",
      "\n",
      "After round 30, train_loss = 3.4759, dev_loss = 4.0263, dev_acc = 0.432\n",
      "\n"
     ]
    }
   ],
   "source": [
    "global_net = to_device(FederatedNet(), device)\n",
    "curr_parameters = global_net.state_dict()\n",
    "history_HDFL = []\n",
    "weights=[]\n",
    "traffic=[]\n",
    "load_model=None\n",
    "total_dataset_length=len(train_dataset)\n",
    "flag=True\n",
    "for i in range(rounds):\n",
    "    traffic_single_sum=0\n",
    "    #chosing the server client with a uniform probability\n",
    "    server=[]\n",
    "    for grp in groups:\n",
    "        traffic_single_sum=traffic_single_sum+len(grp)-1\n",
    "        server_id=np.random.choice(grp,p=np.ones(len(grp))/len(grp))\n",
    "        server.append(server_id)\n",
    "        clients[server_id].set_server_id(server_id)\n",
    "    #in group mesh decentralized learning\n",
    "    k=0\n",
    "    for grp in groups:\n",
    "        flag=True\n",
    "        for j in range(in_group_rounds):\n",
    "            traffic_single_sum=traffic_single_sum+((len(grp)-1)*len(grp))\n",
    "            for clt in grp:\n",
    "                fraction = clients[clt].get_dataset_size()/group_dataset_length[k]\n",
    "                if i == 0 and flag : #at the very start train using initial global model param\n",
    "                    client_parameters=clients[clt].train(curr_parameters) \n",
    "                elif j == 0: #in subsequent rounds, use load_model at the start of in group rounds\n",
    "                    client_parameters=clients[clt].train(load_model) \n",
    "                else: #In other scenarios, use aggregated models\n",
    "                    client_parameters = clients[clt].train(clients[clt].aggregated_parameters())\n",
    "                for clt_1 in grp: #transfer the current client's learned parameters to all clients (including itself) => to be used for aggregation in each client\n",
    "                        clients[clt_1].recieve_parameters(clt_1,client_parameters,fraction)\n",
    "            flag=False\n",
    "        #aggregating on the random choosn server\n",
    "        for clt in grp:\n",
    "                fraction = clients[clt].get_dataset_size()/group_dataset_length[k]\n",
    "                t=clients[clt].aggregated_parameters()\n",
    "                clients[server[k]].recieve_data_as_server(t,fraction)\n",
    "        k+=1\n",
    "    #aggregating the parameters\n",
    "    aggregateds=[]\n",
    "    for clt in server:\n",
    "            t=clients[clt].aggregate_parameter_as_server()\n",
    "            aggregateds.append(t)\n",
    "    #choosing the server from the amongst server at unifrom probability\n",
    "    server_id=np.random.choice(server,p=np.ones(len(server))/len(server))\n",
    "    clients[server_id].set_server_id(server_id)\n",
    "    traffic_single_sum=traffic_single_sum+len(server)\n",
    "    #sending the data to the chosen from all the group server\n",
    "    group_number=0\n",
    "    for clt in aggregateds:\n",
    "            fraction=group_dataset_length[group_number]/total_dataset_length\n",
    "            group_number+=1\n",
    "            clients[server_id].recieve_data_as_server(clt,fraction)\n",
    "    #aggregating at the top level server\n",
    "    traffic_single_sum=traffic_single_sum+num_clients        \n",
    "    aggregated_parameters_top=clients[server_id].aggregate_parameter_as_server()\n",
    "    load_model=aggregated_parameters_top.copy()\n",
    "    total_norm = 0.0\n",
    "    for key, value in load_model.items():\n",
    "            total_norm += torch.norm(value.view(-1)).item()\n",
    "    weights.append(total_norm)\n",
    "    global_net.load_state_dict(load_model)\n",
    "    train_loss, train_acc = global_net.evaluate(train_dataset)\n",
    "    dev_loss, dev_acc = global_net.evaluate(test_dataset)\n",
    "    print('After round {}, train_loss = {}, dev_loss = {}, dev_acc = {}\\n'.format(i + 1, round(train_loss, 4), \n",
    "            round(dev_loss, 4), round(dev_acc, 4)))\n",
    "    traffic.append(traffic_single_sum)\n",
    "    history_HDFL.append((train_acc, dev_acc,i))"
   ]
  },
  {
   "cell_type": "code",
   "execution_count": 60,
   "metadata": {},
   "outputs": [
    {
     "data": {
      "image/png": "[encoded data removed]",
      "text/plain": [
       "<Figure size 500x500 with 1 Axes>"
      ]
     },
     "metadata": {},
     "output_type": "display_data"
    }
   ],
   "source": [
    "plt.plot([i + 1 for i in range(len(history_HDFL))], [history_HDFL[i][0] for i in range(len(history_HDFL))], color='r', label='train loss')\n",
    "plt.plot([i + 1 for i in range(len(history_HDFL))], [history_HDFL[i][1] for i in range(len(history_HDFL))], color='b', label='dev loss')\n",
    "plt.legend()\n",
    "plt.title(\"Rounds vs Accuracy\")\n",
    "plt.xlabel(\"Number of rounds\")\n",
    "plt.ylabel(\"Accuracy\")\n",
    "plt.show()"
   ]
  },
  {
   "cell_type": "code",
   "execution_count": null,
   "metadata": {},
   "outputs": [],
   "source": [
    "print(max(history))\n",
    "print(traffic[0])"
   ]
  },
  {
   "cell_type": "code",
   "execution_count": null,
   "metadata": {},
   "outputs": [],
   "source": [
    "history_file_name=\"./fedavg_2class_hdfl_history\"\n",
    "weights_file_name=\"./fedavg_2class_hdfl_weights\"\n",
    "traffic_file_name=\"./fedavg_2class_hdfl_traffic\""
   ]
  },
  {
   "cell_type": "code",
   "execution_count": null,
   "metadata": {},
   "outputs": [],
   "source": [
    "with open(history_file_name, \"wb\") as fp:\n",
    "        pickle.dump(history, fp)\n",
    "with open(weights_file_name, \"wb\") as fp:\n",
    "        pickle.dump(weights, fp)\n",
    "with open(traffic_file_name, \"wb\") as fp:\n",
    "        pickle.dump(traffic, fp)"
   ]
  },
  {
   "cell_type": "code",
   "execution_count": null,
   "metadata": {},
   "outputs": [],
   "source": []
  }
 ],
 "metadata": {
  "kernelspec": {
   "display_name": "Python 3 (ipykernel)",
   "language": "python",
   "name": "python3"
  },
  "language_info": {
   "codemirror_mode": {
    "name": "ipython",
    "version": 3
   },
   "file_extension": ".py",
   "mimetype": "text/x-python",
   "name": "python",
   "nbconvert_exporter": "python",
   "pygments_lexer": "ipython3",
   "version": "3.9.18"
  }
 },
 "nbformat": 4,
 "nbformat_minor": 4
}
